{
  "nbformat": 4,
  "nbformat_minor": 0,
  "metadata": {
    "colab": {
      "name": "TukeyEmpirical.ipynb",
      "provenance": [],
      "authorship_tag": "ABX9TyNLNYBoEolW2OEgDipgYb6c",
      "include_colab_link": true
    },
    "kernelspec": {
      "name": "python3",
      "display_name": "Python 3"
    },
    "language_info": {
      "name": "python"
    }
  },
  "cells": [
    {
      "cell_type": "markdown",
      "metadata": {
        "id": "view-in-github",
        "colab_type": "text"
      },
      "source": [
        "<a href=\"https://colab.research.google.com/github/AlexH20/Tukey/blob/master/TukeyEmpirical/TukeyEmpirical.ipynb\" target=\"_parent\"><img src=\"https://colab.research.google.com/assets/colab-badge.svg\" alt=\"Open In Colab\"/></a>"
      ]
    },
    {
      "cell_type": "code",
      "execution_count": 45,
      "metadata": {
        "colab": {
          "base_uri": "https://localhost:8080/",
          "height": 133
        },
        "id": "DXeXDr3xpETu",
        "outputId": "7f7c156e-f3f8-44d9-8936-45c826fb0065"
      },
      "outputs": [
        {
          "output_type": "error",
          "ename": "SyntaxError",
          "evalue": "ignored",
          "traceback": [
            "\u001b[0;36m  File \u001b[0;32m\"<ipython-input-45-edd23276485c>\"\u001b[0;36m, line \u001b[0;32m20\u001b[0m\n\u001b[0;31m    ((1-2*x[1])**(1/2)*(x[1]-1))+3*(1-2*np.exp(x[0]**2/(4*x[1]-2))+np.exp(2*x[0]**2/(2*x[1]-1))**2)/(2*x[1]-1))/\u001b[0m\n\u001b[0m                                                                                                                ^\u001b[0m\n\u001b[0;31mSyntaxError\u001b[0m\u001b[0;31m:\u001b[0m invalid syntax\n"
          ]
        }
      ],
      "source": [
        "import pandas as pd\n",
        "import numpy as np\n",
        "import matplotlib.pyplot as plt\n",
        "from google.colab import drive \n",
        "import scipy.stats as stats\n",
        "import scipy.optimize as opt\n",
        "\n",
        "drive.mount(\"/content/gdrive\")\n",
        "\n",
        "def tukeyroot(x):\n",
        "\n",
        "    F1 = -S+((3*np.np.exp(x[0]**2/(2-6*x[1]))+np.np.exp(9*x[0]**2/(2-6*x[1]))-3*np.np.exp(2*x[0]**2/(1-3*x[1]))-1)/(1-3*x[1])**(1/2)-\n",
        "          3*(1-2*np.np.exp(x[0]**2/(2-4*x[1]))+np.np.exp(2*x[0]**2/(1-2*x[1])))*(np.np.exp(x[0]**2/(2-2*x[1]))-1)/((1-2*x[1])**(1/2)*(1-x[1])**(1/2))+\n",
        "          2*(np.np.exp(x[0]**2/(2-2*x[1]))-1)**3/(1-x[1])**(3/2))/(x[0]**3*(((1-2*np.np.exp(x[0]**2/(2-4*x[1]))+np.np.exp(2*x[0]**2/(1-2*x[1]))/(1-2*x[1])**(1/2)\n",
        "          +(np.np.exp(x[0]**2/(2-2*x[1]))-1)**2)/(x[1]-1))/x[0]**2)**(3/2))\n",
        "   \n",
        "    F2 = -K+(np.exp(8*x[0]**2/(1-4*x[1]))*(1+6*np.exp(6*x[0]**2/(4*x[1]-1))+np.exp(8*x[0]**2/(4*x[1]-1))-4*np.exp(7*x[0]**2/(8*x[1]-2))-4*np.exp(15*x[0]**2/(8*x[1]-2)))/(1-4*x[1])**(1/2)-\n",
        "          4*(3*np.exp(x[0]**2/(2-6*x[1]))+np.exp(9*x[0]**2/(2-6*x[1]))-3*np.exp(2*x[0]**2/(1-3*x[1]))-1)*(np.exp(x[0]**2/(2-2*x[1]))-1)/((1-3*x[1])**(1/2)*(1-x[1])**(1/2))-\n",
        "          6*(np.exp(x[0]**2/(2-2*x[1]))-1)**4/(x[1]-1)**2-12*(1-2*np.exp(x[0]**2/(4*x[1]-2))+np.exp(2*x[0]**2/(2*x[1]-1))*np.exp(x[0]**2/(2-2*x[1]))-1)/\n",
        "          ((1-2*x[1])**(1/2)*(x[1]-1))+3*(1-2*np.exp(x[0]**2/(4*x[1]-2))+np.exp(2*x[0]**2/(2*x[1]-1))**2)/(2*x[1]-1))/\n",
        "          ((1-2*np.exp(x[0]**2/(4*x[1]-2))+np.exp(2*x[0]**2/(2*x[1]-1)))/(2*x[1]-1)**(1/2)+(np.exp(x[0]**2/(2-2*x[1]))-1)**2/(x[1]-1))**2\n",
        "\n",
        "\n",
        "  return [F1,F2]\n",
        "\n",
        "\n",
        "\n",
        "\n",
        "#Read data to Matlab workspace\n",
        "\n",
        "dax = pd.read_csv(\"gdrive/My Drive/dax2Y.csv\", delimiter = \";\", usecols = [1], header = None)\n",
        "dax.dropna(inplace = True)\n",
        "dax.rename(columns={dax.columns[0]: \"Dax\"}, inplace = True)\n",
        "dax[\"Dax\"] = [float(x.replace(\",\", \".\")) for x in dax[\"Dax\"]]\n",
        "\n",
        "dax[\"Dax\"] = dax[\"Dax\"].pct_change(1)\n",
        "dax.dropna(inplace = True)\n",
        "\n",
        "S = stats.skew(dax[\"Dax\"])\n",
        "K = stats.kurtosis(dax[\"Dax\"])\n",
        "mean = np.mean(dax[\"Dax\"])\n",
        "std = np.std(dax[\"Dax\"])\n",
        "\n",
        "x0 = [1.1, 0.1]\n",
        "x = opt.fsolve(tukeyroot, x0)\n",
        "print(x)\n",
        "print(S, K)\n"
      ]
    },
    {
      "cell_type": "code",
      "source": [
        "  F1 = -S+((3*np.np.exp(x[0]**2/(2-6*x[1]))+np.np.exp(9*x[0]**2/(2-6*x[1]))-3*np.np.exp(2*x[0]**2/(1-3*x[1]))-1)/(1-3*x[1])**(1/2)-\n",
        "  3*(1-2*np.np.exp(x[0]**2/(2-4*x[1]))+np.np.exp(2*x[0]**2/(1-2*x[1])))*(np.np.exp(x[0]**2/(2-2*x[1]))-1)/((1-2*x[1])**(1/2)*(1-x[1])**(1/2))+\n",
        "  2*(np.np.exp(x[0]**2/(2-2*x[1]))-1)**3/(1-x[1])**(3/2))/(x[0]**3*(((1-2*np.np.exp(x[0]**2/(2-4*x[1]))+np.np.exp(2*x[0]**2/(1-2*x[1]))/(1-2*x[1])**(1/2)\n",
        "  +(np.np.exp(x[0]**2/(2-2*x[1]))-1)**2)/(x[1]-1))/x[0]**2)**(3/2))"
      ],
      "metadata": {
        "id": "3kPkaOMniCpI"
      },
      "execution_count": null,
      "outputs": []
    }
  ]
}