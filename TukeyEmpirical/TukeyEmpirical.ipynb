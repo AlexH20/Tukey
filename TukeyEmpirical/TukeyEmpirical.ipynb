{
  "nbformat": 4,
  "nbformat_minor": 0,
  "metadata": {
    "colab": {
      "name": "TukeyEmpirical.ipynb",
      "provenance": [],
      "authorship_tag": "ABX9TyPzgIFzYceZjgWLYaqGWUWJ",
      "include_colab_link": true
    },
    "kernelspec": {
      "name": "python3",
      "display_name": "Python 3"
    },
    "language_info": {
      "name": "python"
    }
  },
  "cells": [
    {
      "cell_type": "markdown",
      "metadata": {
        "id": "view-in-github",
        "colab_type": "text"
      },
      "source": [
        "<a href=\"https://colab.research.google.com/github/AlexH20/Tukey/blob/master/TukeyEmpirical/TukeyEmpirical.ipynb\" target=\"_parent\"><img src=\"https://colab.research.google.com/assets/colab-badge.svg\" alt=\"Open In Colab\"/></a>"
      ]
    },
    {
      "cell_type": "code",
      "execution_count": 20,
      "metadata": {
        "colab": {
          "base_uri": "https://localhost:8080/"
        },
        "id": "Zx6YAWkNZYz6",
        "outputId": "2ee9316a-b666-420c-8885-a6c83550b4cd"
      },
      "outputs": [
        {
          "output_type": "stream",
          "name": "stdout",
          "text": [
            "Drive already mounted at /content/gdrive; to attempt to forcibly remount, call drive.mount(\"/content/gdrive\", force_remount=True).\n"
          ]
        }
      ],
      "source": [
        "import pandas as pd\n",
        "import numpy as np\n",
        "import matplotlib.pyplot as plt\n",
        "from google.colab import drive \n",
        "import scipy.stats as stats\n",
        "import scipy.optimize as opt\n",
        "from scipy.stats import norm\n",
        "\n",
        "drive.mount(\"/content/gdrive\")\n",
        "\n",
        "def tukeyroot2(x):\n",
        "\n",
        "  F1 = -S+((3*np.exp(x[0]**2/(2-6*x[1]))+np.exp(9*x[0]**2/(2-6*x[1]))-3*np.exp(2*x[0]**2/(1-3*x[1]))-1)/(x[0]**3*(1-3*x[1])**(1/2))-\n",
        "    3*((np.exp(x[0]**2/(2-2*x[1]))-1)/(x[0]*(1-x[1])**(1/2)))*((1-2*np.exp(x[0]**2/(2-4*x[1]))+np.exp(2*x[0]**2/(1-2*x[1])))/(x[0]**2*(1-2*x[1])**(1/2)))+\n",
        "    2*((np.exp(x[0]**2/(2-2*x[1]))-1)/(x[0]*(1-x[1])**(1/2)))**3)/(((1-2*np.exp(x[0]**2/(2-4*x[1]))+np.exp(2*x[0]**2/(1-2*x[1])))/(x[0]**2*(1-2*x[1])**(1/2)))-\n",
        "    ((np.exp(x[0]**2/(2-2*x[1]))-1)/(x[0]*(1-x[1])**(1/2)))**2)**(3/2)\n",
        "    \n",
        "    \n",
        "    \n",
        "  F2 = -K+(((np.exp(8*x[0]**2/(1-4*x[1]))*(1+6*np.exp(6*x[0]**2/(4*x[1]-1))+np.exp(8*x[0]**2/(4*x[1]-1))-4*np.exp(7*x[0]**2/(8*x[1]-2))-4*np.exp(15*x[0]**2/(8*x[1]-2))))/(x[0]**4*(1-4*x[1])**(1/2)))-\n",
        "    4*((3*np.exp(x[0]**2/(2-6*x[1]))+np.exp(9*x[0]**2/(2-6*x[1]))-3*np.exp(2*x[0]**2/(1-3*x[1]))-1)/(x[0]**3*(1-3*x[1])**(1/2)))*((np.exp(x[0]**2/(2-2*x[1]))-1)/(x[0]*(1-x[1])**(1/2)))-\n",
        "    3*((1-2*np.exp(x[0]**2/(2-4*x[1]))+np.exp(2*x[0]**2/(1-2*x[1])))/(x[0]**2*(1-2*x[1])**(1/2)))**2+\n",
        "    12*((1-2*np.exp(x[0]**2/(2-4*x[1]))+np.exp(2*x[0]**2/(1-2*x[1])))/(x[0]**2*(1-2*x[1])**(1/2)))*((np.exp(x[0]**2/(2-2*x[1]))-1)/(x[0]*(1-x[1])**(1/2)))**2-\n",
        "     6*((np.exp(x[0]**2/(2-2*x[1]))-1)/(x[0]*(1-x[1])**(1/2)))**4)/((((1-2*np.exp(x[0]**2/(2-4*x[1]))+np.exp(2*x[0]**2/(1-2*x[1])))/(x[0]**2*(1-2*x[1])**(1/2)))-((np.exp(x[0]**2/(2-2*x[1]))-1)/(x[0]*(1-x[1])**(1/2)))**2)**2)\n",
        "\n",
        "  return [F1, F2]\n",
        "\n",
        "\n",
        "\n",
        "#Read data to Matlab workspace\n",
        "dax = pd.read_csv(\"gdrive/My Drive/dax2Y.csv\", delimiter = \";\", usecols = [1], header = None)\n",
        "dax.dropna(inplace = True)\n",
        "dax.rename(columns={dax.columns[0]: \"Dax\"}, inplace = True)\n",
        "dax[\"Dax\"] = [float(x.replace(\",\", \".\")) for x in dax[\"Dax\"]]\n",
        "\n",
        "#Get Dax returns\n",
        "dax[\"Dax\"] = dax[\"Dax\"].pct_change(1)\n",
        "dax.dropna(inplace = True)\n",
        "\n",
        "S = stats.skew(dax[\"Dax\"])\n",
        "K = stats.kurtosis(dax[\"Dax\"])\n",
        "mean = np.mean(dax[\"Dax\"])\n",
        "std = np.std(dax[\"Dax\"])\n",
        "\n",
        "#Find 'g' and 'h' values by solving the system of nonlinear equations\n",
        "x0 = [1.1, 0.1]\n",
        "x = opt.fsolve(tukeyroot2, x0)\n",
        "\n",
        "g = x[0]\n",
        "h = x[1]\n",
        "\n",
        "#Calculate two central moments of Tukey distribution as well as expectation and variance\n",
        "E1 = (np.exp(x[0]**2/(2-2*x[1]))-1)/(x[0]*(1-x[1])**(1/2))\n",
        "E2 = (1-2*np.exp(x[0]**2/(2-4*x[1]))+np.exp(2*x[0]**2/(1-2*x[1])))/(x[0]**2*(1-2*x[1])**(1/2))\n",
        "\n",
        "tukey_mean = E1\n",
        "tukey_variance = E2-E1**2\n",
        "\n",
        "#Calculate values necessary for the linear transformation\n",
        " \n",
        "a=std/tukey_variance\n",
        "b=mean - a*tukey_mean\n",
        "\n",
        "#Specify linear transformation as following:\n",
        "\n",
        "x = np.linspace(0.00001,0.99999,10000)\n",
        "R = norm.ppf(x)\n",
        "fit = a*((1/x[0])*np.exp(x[1]*R**2/2)*(np.exp(x[0]*R)-1))+b\n",
        "\n"
      ]
    }
  ]
}