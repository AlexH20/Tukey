{
  "nbformat": 4,
  "nbformat_minor": 0,
  "metadata": {
    "colab": {
      "name": "TukeyEmpirical.ipynb",
      "provenance": [],
      "authorship_tag": "ABX9TyMBSYibd5LKAZVmPc9n3clB",
      "include_colab_link": true
    },
    "kernelspec": {
      "name": "python3",
      "display_name": "Python 3"
    },
    "language_info": {
      "name": "python"
    }
  },
  "cells": [
    {
      "cell_type": "markdown",
      "metadata": {
        "id": "view-in-github",
        "colab_type": "text"
      },
      "source": [
        "<a href=\"https://colab.research.google.com/github/AlexH20/Tukey/blob/master/TukeyEmpirical.ipynb\" target=\"_parent\"><img src=\"https://colab.research.google.com/assets/colab-badge.svg\" alt=\"Open In Colab\"/></a>"
      ]
    },
    {
      "cell_type": "code",
      "execution_count": 27,
      "metadata": {
        "colab": {
          "base_uri": "https://localhost:8080/",
          "height": 536
        },
        "id": "DXeXDr3xpETu",
        "outputId": "474b2b5a-912a-426e-edec-cb5cec358a88"
      },
      "outputs": [
        {
          "output_type": "stream",
          "name": "stdout",
          "text": [
            "Drive already mounted at /content/gdrive; to attempt to forcibly remount, call drive.mount(\"/content/gdrive\", force_remount=True).\n",
            "          Dax\n",
            "1    0.010927\n",
            "2   -0.002059\n",
            "3   -0.005094\n",
            "4    0.005990\n",
            "5   -0.004806\n",
            "..        ...\n",
            "517  0.000000\n",
            "518  0.000000\n",
            "519  0.002573\n",
            "520 -0.005681\n",
            "521  0.000000\n",
            "\n",
            "[521 rows x 1 columns]\n",
            "2.031753867900065\n"
          ]
        },
        {
          "output_type": "stream",
          "name": "stderr",
          "text": [
            "/usr/local/lib/python3.7/dist-packages/ipykernel_launcher.py:13: RuntimeWarning: invalid value encountered in double_scalars\n",
            "  del sys.path[0]\n",
            "/usr/local/lib/python3.7/dist-packages/ipykernel_launcher.py:21: RuntimeWarning: invalid value encountered in double_scalars\n",
            "/usr/local/lib/python3.7/dist-packages/scipy/optimize/minpack.py:162: RuntimeWarning: The iteration is not making good progress, as measured by the \n",
            "  improvement from the last ten iterations.\n",
            "  warnings.warn(msg, RuntimeWarning)\n"
          ]
        },
        {
          "output_type": "execute_result",
          "data": {
            "text/plain": [
              "' \\n %hist(sreturns);\\n \\n % calculate summary statistics of the data: mean, std, skew, kurtosis\\n S=skewness(sreturns);\\n K=kurtosis(sreturns);\\n mean=mean(sreturns);\\n std=std(sreturns);\\n \\n% specify obtained values S for skew and K for kurtosis in the auxiliary \\'tukeyroot\\' file \\n% find \\'g\\' and \\'h\\' values by solving the system of nonlinear equations\\n\\n x0 = [1; 0];  % Make a starting guess at the solution\\n[x,fval] = fsolve(@tukeyroot,x0) % Call solver\\n x[0] % g\\n x[1] % h\\n \\n % calculate two central moments of Tukey distribution as well as np.np.expectation and\\n % variance\\n \\n E1 = (np.np.exp(x[0]**2/(2-2*x[1]))-1)/(x[0]*(1-x[1])**(1/2));\\n E2 = (1-2*np.np.exp(x[0]**2/(2-4*x[1]))+np.np.exp(2*x[0]**2/(1-2*x[1])))/(x[0]**2*(1-2*x[1])**(1/2));\\n\\n tukey_mean = E1;\\n tukey_variance = E2-E1**2;\\n\\n % calculate values necessary for the linear transformation\\n \\n a=std/tukey_variance;\\n b=mean - a*tukey_mean;\\n \\n % specify linear transformation as following:\\n \\n R=randn(1,10000);\\n fit = a*((1/x[0]).*np.np.exp(x[1]*R.**2/2).*(np.np.exp(x[0].*R)-1))+b;\\n \\n% For reference see Headrick et al. (2008), \"Parametric probability\\n% densities and distribution functions for Tukey g- and h- Transformations\\n% and their Use for Fitting Data\", Applied Mathematical Science 2/9,\\n% 449-462.\\n '"
            ],
            "application/vnd.google.colaboratory.intrinsic+json": {
              "type": "string"
            }
          },
          "metadata": {},
          "execution_count": 27
        }
      ],
      "source": [
        "import pandas as pd\n",
        "import numpy as np\n",
        "import matplotlib.pyplot as plt\n",
        "from google.colab import drive \n",
        "import scipy.stats as stats\n",
        "import scipy.optimize as opt\n",
        "\n",
        "drive.mount(\"/content/gdrive\")\n",
        "\n",
        "def tukeyroot(x):\n",
        "\n",
        "  F1 = -S+((3*np.exp(x[0]**2/(2-6*x[1]))+np.exp(9*x[0]**2/(2-6*x[1]))-3*np.exp(2*x[0]**2/(1-3*x[1]))-1)/(x[0]**3*(1-3*x[1])**(1/2))-\n",
        "    3*((np.exp(x[0]**2/(2-2*x[1]))-1)/(x[0]*(1-x[1])**(1/2)))*((1-2*np.exp(x[0]**2/(2-4*x[1]))+np.exp(2*x[0]**2/(1-2*x[1])))/(x[0]**2*(1-2*x[1])**(1/2)))+\n",
        "    2*((np.exp(x[0]**2/(2-2*x[1]))-1)/(x[0]*(1-x[1])**(1/2)))**3)/((((1-2*np.exp(x[0]**2/(2-4*x[1]))+np.exp(2*x[0]**2/(1-2*x[1])))/(x[0]**2*(1-2*x[1])**(1/2)))-\n",
        "    ((np.exp(x[0]**2/(2-2*x[1]))-1)/(x[0]*(1-x[1])**(1/2)))**2)**(3/2))\n",
        "\n",
        "\n",
        "  F2 = -K+(((np.exp(8*x[0]**2/(1-4*x[1]))*(1+6*np.exp(6*x[0]**2/(4*x[1]-1))+np.exp(8*x[0]**2/(4*x[1]-1))-4*np.exp(7*x[0]**2/(8*x[1]-2))-4*np.exp(15*x[0]**2/(8*x[1]-2))))/(x[0]**4*(1-4*x[1])**(1/2)))-\n",
        "    4*((3*np.exp(x[0]**2/(2-6*x[1]))+np.exp(9*x[0]**2/(2-6*x[1]))-3*np.exp(2*x[0]**2/(1-3*x[1]))-1)/(x[0]**3*(1-3*x[1])**(1/2)))*((np.exp(x[0]**2/(2-2*x[1]))-1)/(x[0]*(1-x[1])**(1/2)))-\n",
        "    3*((1-2*np.exp(x[0]**2/(2-4*x[1]))+np.exp(2*x[0]**2/(1-2*x[1])))/(x[0]**2*(1-2*x[1])**(1/2)))**2+\n",
        "    12*((1-2*np.exp(x[0]**2/(2-4*x[1]))+np.exp(2*x[0]**2/(1-2*x[1])))/(x[0]**2*(1-2*x[1])**(1/2)))*((np.exp(x[0]**2/(2-2*x[1]))-1)/(x[0]*(1-x[1])**(1/2)))**2-\n",
        "    6*((np.exp(x[0]**2/(2-2*x[1]))-1)/(x[0]*(1-x[1])**(1/2)))**4)/((((1-2*np.exp(x[0]**2/(2-4*x[1]))+np.exp(2*x[0]**2/(1-2*x[1])))/(x[0]**2*(1-2*x[1])**(1/2)))-((np.exp(x[0]**2/(2-2*x[1]))-1)/(x[0]*(1-x[1])**(1/2)))**2)**2)\n",
        "    \n",
        "  return [F1, F2]\n",
        "\n",
        "\n",
        "\n",
        "\n",
        "#Read data to Matlab workspace\n",
        "\n",
        "dax = pd.read_csv(\"gdrive/My Drive/dax2Y.csv\", delimiter = \";\", usecols = [1], header = None)\n",
        "dax.dropna(inplace = True)\n",
        "dax.rename(columns={dax.columns[0]: \"Dax\"}, inplace = True)\n",
        "dax[\"Dax\"] = [float(x.replace(\",\", \".\")) for x in dax[\"Dax\"]]\n",
        "\n",
        "dax[\"Dax\"] = dax[\"Dax\"].pct_change(1)\n",
        "dax.dropna(inplace = True)\n",
        "print(dax)\n",
        "\n",
        "S = stats.skew(dax[\"Dax\"])\n",
        "K = stats.kurtosis(dax[\"Dax\"])\n",
        "mean = np.mean(dax[\"Dax\"])\n",
        "std = np.std(dax[\"Dax\"])\n",
        "\n",
        "x0 = [1,0]\n",
        "x = opt.fsolve(tukeyroot, x0)\n",
        "print(K)\n"
      ]
    }
  ]
}
